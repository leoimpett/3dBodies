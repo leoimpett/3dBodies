{
 "cells": [
  {
   "cell_type": "code",
   "execution_count": 1,
   "metadata": {
    "collapsed": false
   },
   "outputs": [],
   "source": [
    "import bd\n",
    "import pickle\n",
    "import numpy as np\n",
    "from Point import Point\n",
    "\n",
    "import matplotlib\n",
    "%matplotlib inline\n",
    "from matplotlib import pyplot as plt"
   ]
  },
  {
   "cell_type": "code",
   "execution_count": 2,
   "metadata": {
    "collapsed": true
   },
   "outputs": [],
   "source": [
    "myPaintings = pickle.load(open('../../Python Scripts/myPaintings07500.p', 'rb'))\n",
    "\n",
    "\n",
    "## HERE go buc corrections to the catalog, which are numerous.... \n",
    "myPaintings[7465][1] = 'http://www.wga.hu/art/c/casa/portrait_C.jpg' ## and NOT portrait_c (lowercase), the original...\n"
   ]
  },
  {
   "cell_type": "code",
   "execution_count": 9,
   "metadata": {
    "collapsed": false,
    "scrolled": true
   },
   "outputs": [],
   "source": [
    "#6 seconds in my computer\n",
    "all_bodies = bd.construct_body_list(7500, myPaintings)"
   ]
  },
  {
   "cell_type": "code",
   "execution_count": 10,
   "metadata": {
    "collapsed": false
   },
   "outputs": [],
   "source": [
    "all_relative_angles = bd.all_relative_angles(all_bodies)"
   ]
  },
  {
   "cell_type": "code",
   "execution_count": 5,
   "metadata": {
    "collapsed": false
   },
   "outputs": [
    {
     "data": {
      "image/png": "[encoded data removed]",
      "text/plain": [
       "<matplotlib.figure.Figure at 0x658e208>"
      ]
     },
     "metadata": {},
     "output_type": "display_data"
    }
   ],
   "source": [
    "body_id = 73\n",
    "black = (0,0,0)\n",
    "red = (1,0,0)\n",
    "width, height = 1000, 1000\n",
    "img = np.ones((height, width, 3))\n",
    "\n",
    "all_bodies[body_id].draw(img, red)\n",
    "\n",
    "\n",
    "plt.imshow(img)\n",
    "fig = matplotlib.pyplot.gcf()\n",
    "fig.set_size_inches(10, 10)"
   ]
  },
  {
   "cell_type": "code",
   "execution_count": 6,
   "metadata": {
    "collapsed": false
   },
   "outputs": [
    {
     "name": "stdout",
     "output_type": "stream",
     "text": [
      "[  84.22774955   84.08161364  119.99492266   76.44864495  115.32334783\n",
      "   71.1721974   213.84432879   98.76853689   82.822451    213.56902638\n",
      "   97.22454626   81.50439622  130.24843261    0.            0.            0.\n",
      "    0.        ]\n"
     ]
    }
   ],
   "source": [
    "print bd.all_bodies_mean_limb_length(all_bodies)  * np.array(2.5)"
   ]
  }
 ],
 "metadata": {
  "kernelspec": {
   "display_name": "Python 2",
   "language": "python",
   "name": "python2"
  },
  "language_info": {
   "codemirror_mode": {
    "name": "ipython",
    "version": 2
   },
   "file_extension": ".py",
   "mimetype": "text/x-python",
   "name": "python",
   "nbconvert_exporter": "python",
   "pygments_lexer": "ipython2",
   "version": "2.7.13"
  }
 },
 "nbformat": 4,
 "nbformat_minor": 2
}
