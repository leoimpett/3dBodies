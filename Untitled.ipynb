{
 "cells": [
  {
   "cell_type": "code",
   "execution_count": 1,
   "metadata": {
    "collapsed": false
   },
   "outputs": [],
   "source": [
    "import bd\n",
    "import pickle\n",
    "import numpy as np\n",
    "from Point import Point\n",
    "\n",
    "import matplotlib\n",
    "%matplotlib inline\n",
    "from matplotlib import pyplot as plt"
   ]
  },
  {
   "cell_type": "code",
   "execution_count": 23,
   "metadata": {
    "collapsed": true
   },
   "outputs": [],
   "source": [
    "#constants\n",
    "ratio = 1\n",
    "black = (0,0,0)\n",
    "red = (1,0,0)\n",
    "width, height = 1000, 1000"
   ]
  },
  {
   "cell_type": "code",
   "execution_count": 3,
   "metadata": {
    "collapsed": true
   },
   "outputs": [],
   "source": [
    "myPaintings = pickle.load(open('../../Python Scripts/myPaintings07500.p', 'rb'))\n",
    "\n",
    "\n",
    "## HERE go buc corrections to the catalog, which are numerous.... \n",
    "myPaintings[7465][1] = 'http://www.wga.hu/art/c/casa/portrait_C.jpg' ## and NOT portrait_c (lowercase), the original...\n"
   ]
  },
  {
   "cell_type": "code",
   "execution_count": 4,
   "metadata": {
    "collapsed": false,
    "scrolled": true
   },
   "outputs": [],
   "source": [
    "#6 seconds in my computer\n",
    "all_bodies = bd.construct_body_list(7500, myPaintings)"
   ]
  },
  {
   "cell_type": "code",
   "execution_count": 5,
   "metadata": {
    "collapsed": false
   },
   "outputs": [],
   "source": [
    "all_relative_angles = bd.all_relative_angles(all_bodies)\n",
    "deviation = bd.compute_std_deviation(all_relative_angles)"
   ]
  },
  {
   "cell_type": "code",
   "execution_count": 24,
   "metadata": {
    "collapsed": true
   },
   "outputs": [],
   "source": [
    "ll = bd.all_bodies_mean_limb_length(all_bodies)  * np.array(ratio)\n",
    "ml = bd.middle_mean_length(all_bodies) * ratio"
   ]
  },
  {
   "cell_type": "code",
   "execution_count": 25,
   "metadata": {
    "collapsed": true
   },
   "outputs": [],
   "source": [
    "resized_bodies = bd.resize_bodies(all_bodies, ml)\n",
    "mlb = bd.middle_mean_length(resized_bodies)"
   ]
  },
  {
   "cell_type": "code",
   "execution_count": 26,
   "metadata": {
    "collapsed": false
   },
   "outputs": [],
   "source": [
    "base_body = bd.angles_to_body(bd.angles(), ll, Point(500,300))"
   ]
  },
  {
   "cell_type": "code",
   "execution_count": 27,
   "metadata": {
    "collapsed": false
   },
   "outputs": [
    {
     "name": "stdout",
     "output_type": "stream",
     "text": [
      "p1 :\n",
      "x: 490\ty: 543\n",
      "p2 :\n",
      "x: 373\ty: 524\n",
      "p1 :\n",
      "x: 490\ty: 543\n",
      "p2 :\n",
      "x: 606\ty: 579\n",
      "ivalid\n",
      "ivalid\n",
      "p1 :\n",
      "x: 606\ty: 579\n",
      "p2 :\n",
      "x: 629\ty: 881\n",
      "p1 :\n",
      "x: 629\ty: 881\n",
      "p2 :\n",
      "x: 436\ty: 825\n",
      "ivalid\n",
      "ivalid\n",
      "ivalid\n",
      "ivalid\n",
      "ivalid\n",
      "ivalid\n",
      "p1 :\n",
      "x: 490\ty: 543\n",
      "p2 :\n",
      "x: 350\ty: 406\n",
      "p1 :\n",
      "x: 350\ty: 406\n",
      "p2 :\n",
      "invalid\n",
      "ivalid\n",
      "p1 :\n",
      "x: 350\ty: 406\n",
      "p2 :\n",
      "invalid\n",
      "p1 :\n",
      "invalid\n",
      "p2 :\n",
      "invalid\n"
     ]
    },
    {
     "data": {
      "image/png": "[encoded data removed]",
      "text/plain": [
       "<matplotlib.figure.Figure at 0x44928630>"
      ]
     },
     "metadata": {},
     "output_type": "display_data"
    }
   ],
   "source": [
    "body_id = 7\n",
    "img = np.ones((height, width, 3))\n",
    "\n",
    "for p in all_bodies[body_id].limbs:\n",
    "    print p.to_string()\n",
    "\n",
    "all_bodies[body_id].draw(img, black)\n",
    "resized_bodies[body_id].draw(img, red)\n",
    "\n",
    "\n",
    "plt.imshow(img)\n",
    "fig = matplotlib.pyplot.gcf()\n",
    "fig.set_size_inches(10, 10)"
   ]
  },
  {
   "cell_type": "code",
   "execution_count": 28,
   "metadata": {
    "collapsed": false
   },
   "outputs": [
    {
     "data": {
      "image/png": "[encoded data removed]",
      "text/plain": [
       "<matplotlib.figure.Figure at 0x6a32668>"
      ]
     },
     "metadata": {},
     "output_type": "display_data"
    }
   ],
   "source": [
    "img = np.ones((height, width, 3))\n",
    "\n",
    "base_body.draw(img, red)\n",
    "\n",
    "\n",
    "plt.imshow(img)\n",
    "fig = matplotlib.pyplot.gcf()\n",
    "fig.set_size_inches(10, 10)"
   ]
  }
 ],
 "metadata": {
  "kernelspec": {
   "display_name": "Python 2",
   "language": "python",
   "name": "python2"
  },
  "language_info": {
   "codemirror_mode": {
    "name": "ipython",
    "version": 2
   },
   "file_extension": ".py",
   "mimetype": "text/x-python",
   "name": "python",
   "nbconvert_exporter": "python",
   "pygments_lexer": "ipython2",
   "version": "2.7.13"
  }
 },
 "nbformat": 4,
 "nbformat_minor": 2
}
