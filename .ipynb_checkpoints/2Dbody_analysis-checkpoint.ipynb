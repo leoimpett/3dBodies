{
 "cells": [
  {
   "cell_type": "code",
   "execution_count": 1,
   "metadata": {
    "collapsed": false
   },
   "outputs": [],
   "source": [
    "import bd\n",
    "import pickle\n",
    "import numpy as np\n",
    "from Point import Point\n",
    "from Limb import Limb\n",
    "\n",
    "import matplotlib\n",
    "%matplotlib inline\n",
    "from matplotlib import pyplot as plt"
   ]
  },
  {
   "cell_type": "code",
   "execution_count": 2,
   "metadata": {
    "collapsed": true
   },
   "outputs": [],
   "source": [
    "#constants\n",
    "ratio = 2\n",
    "black = (0,0,0)\n",
    "red = (1,0,0)\n",
    "width, height = 1000, 1000\n",
    "\n",
    "#to keep\n",
    "l_arm = True\n",
    "r_arm = True\n",
    "l_leg = True\n",
    "r_leg = True\n",
    "neck = True\n",
    "general = True\n",
    "\n",
    "to_keep = [l_arm, r_arm, l_leg, r_leg, neck, general]"
   ]
  },
  {
   "cell_type": "code",
   "execution_count": 3,
   "metadata": {
    "collapsed": true
   },
   "outputs": [],
   "source": [
    "myPaintings = pickle.load(open('../../Python Scripts/myPaintings21400.p', 'rb'))\n",
    "\n",
    "\n",
    "## HERE go buc corrections to the catalog, which are numerous.... \n",
    "myPaintings[7465][1] = 'http://www.wga.hu/art/c/casa/portrait_C.jpg' ## and NOT portrait_c (lowercase), the original...\n",
    "\n",
    "filtered_paintings = bd.filer_paintings(myPaintings)\n",
    "\n",
    "print len(myPaintings)\n",
    "print len(filtered_paintings)"
   ]
  },
  {
   "cell_type": "code",
   "execution_count": 4,
   "metadata": {
    "collapsed": false,
    "scrolled": true
   },
   "outputs": [],
   "source": [
    "#6 seconds in my computer\n",
    "all_bodies = bd.construct_body_list(len(myPaintings), myPaintings)\n",
    "filtered_bodies = bd.filter_bodies(all_bodies)\n",
    "\n",
    "print len(all_bodies)\n",
    "print len(filtered_bodies)"
   ]
  },
  {
   "cell_type": "code",
   "execution_count": 5,
   "metadata": {
    "collapsed": false
   },
   "outputs": [],
   "source": [
    "all_relative_angles = bd.all_relative_angles(all_bodies)\n",
    "deviation = bd.compute_std_deviation(all_relative_angles)"
   ]
  },
  {
   "cell_type": "code",
   "execution_count": 6,
   "metadata": {
    "collapsed": true
   },
   "outputs": [],
   "source": [
    "ll = bd.all_bodies_mean_limb_length(all_bodies)  * np.array(ratio)\n",
    "ml = bd.middle_mean_length(all_bodies) * ratio"
   ]
  },
  {
   "cell_type": "code",
   "execution_count": 7,
   "metadata": {
    "collapsed": true
   },
   "outputs": [],
   "source": [
    "resized_bodies = bd.resize_bodies(all_bodies, ml)\n",
    "mlb = bd.middle_mean_length(resized_bodies)"
   ]
  },
  {
   "cell_type": "code",
   "execution_count": 8,
   "metadata": {
    "collapsed": false
   },
   "outputs": [
    {
     "data": {
      "image/png": "[encoded data removed]",
      "text/plain": [
       "<matplotlib.figure.Figure at 0x996b198>"
      ]
     },
     "metadata": {},
     "output_type": "display_data"
    }
   ],
   "source": [
    "body_id = 52500\n",
    "img = np.ones((height, width, 3))\n",
    "\n",
    "\n",
    "resized_bodies[body_id].draw(img, red)\n",
    "\n",
    "\n",
    "plt.imshow(img)\n",
    "fig = matplotlib.pyplot.gcf()\n",
    "fig.set_size_inches(10, 10)"
   ]
  },
  {
   "cell_type": "code",
   "execution_count": 9,
   "metadata": {
    "collapsed": false
   },
   "outputs": [
    {
     "data": {
      "image/png": "[encoded data removed]",
      "text/plain": [
       "<matplotlib.figure.Figure at 0x482bb38>"
      ]
     },
     "metadata": {},
     "output_type": "display_data"
    }
   ],
   "source": [
    "img = np.ones((height, width, 3))\n",
    "base_body = bd.angles_to_body(bd.angles(), ll, Point(500,300))\n",
    "\n",
    "base_body.rotate(120)\n",
    "base_body.draw(img, red)\n",
    "\n",
    "\n",
    "plt.imshow(img)\n",
    "fig = matplotlib.pyplot.gcf()\n",
    "fig.set_size_inches(10, 10)"
   ]
  },
  {
   "cell_type": "code",
   "execution_count": 10,
   "metadata": {
    "collapsed": false
   },
   "outputs": [
    {
     "name": "stdout",
     "output_type": "stream",
     "text": [
      "11.8359999657\n",
      "1.04100012779\n",
      "[[31707 42099 14187 15582 47731 48445 32420  7310 28851 40106 42298 43603\n",
      "  47995 14234 56145 64670 56459 32912 57746 48200 48169 68406 27144 26027\n",
      "  16468 15503  8206  9183 52372  3525  1573 29811 27768 38196  2328 16894\n",
      "  32806 25590 11725 32442 17313 42997 52373 61570  4650 65465  3417 21595\n",
      "  56796  6899  8914 52562 51070 22559 30645 40454  7063 20827 40715 48539\n",
      "  50296  3594  3418 28832 58983 20169 40971 59290 67803 52377 19552 41662\n",
      "  29388 53583 51687 13112 65985 45444 63647  6651 52500 29146 23744  9737\n",
      "  58981  5006 28723  5637  2339  7131 10093 57396  7092 23997   720 52375\n",
      "  13483  3601 41737 23995]]\n"
     ]
    }
   ],
   "source": [
    "d,i = bd.get_n_nearest_neighbor(all_relative_angles, base_body, deviation, to_keep, n=100, dist=50)\n",
    "print i"
   ]
  },
  {
   "cell_type": "code",
   "execution_count": 11,
   "metadata": {
    "collapsed": false
   },
   "outputs": [
    {
     "name": "stdout",
     "output_type": "stream",
     "text": [
      "34.1510000229\n"
     ]
    }
   ],
   "source": [
    "#to change the number of random paintings, change n\n",
    "import time\n",
    "n = 20\n",
    "t = time.time()\n",
    "bd.p_values_random_hypothesis(n, myPaintings, all_bodies, all_relative_angles, deviation, 'a')\n",
    "print time.time() -t"
   ]
  },
  {
   "cell_type": "code",
   "execution_count": 12,
   "metadata": {
    "collapsed": false
   },
   "outputs": [],
   "source": [
    "import bqplot as bqp\n",
    "\n",
    "\n",
    "def interactive_body(body, l_arm = True, r_arm = True, l_leg = True, r_leg = True, neck_p = True, general = True):\n",
    "    \"\"\"Plot an interactive body with which we can play.\"\"\"\n",
    "    \n",
    "    middle = Limb(body.pts[9], body.pts[13]).middle()\n",
    "    to_keep=list()\n",
    "    if l_arm:\n",
    "        to_keep.append(body.pts[3].to_array())\n",
    "        to_keep.append(body.pts[4].to_array())\n",
    "    if r_arm:\n",
    "        to_keep.append(body.pts[7].to_array())\n",
    "        to_keep.append(body.pts[8].to_array())\n",
    "    if l_leg:\n",
    "        to_keep.append(body.pts[10].to_array())\n",
    "        to_keep.append(body.pts[11].to_array())\n",
    "    if r_leg:\n",
    "        to_keep.append(body.pts[14].to_array())\n",
    "        to_keep.append(body.pts[15].to_array())\n",
    "    if neck_p:\n",
    "        to_keep.append(body.pts[0].to_array())\n",
    "    if general:\n",
    "        to_keep.append(middle.to_array())\n",
    "        \n",
    "        \n",
    "    def refresh(_):\n",
    "        middle = Limb(body.pts[9], body.pts[13]).middle()\n",
    "        if (not abs(scat.x[-1] - middle.x) < 10) or (not abs(scat.y[-1] - middle.y)<10):\n",
    "            o = body.pts[1]\n",
    "            a = Point(scat.x[-1], scat.y[-1]).angle(o) - middle.angle(o)\n",
    "            body.rotate(a)\n",
    "            \n",
    "            middle = Limb(body.pts[9], body.pts[13]).middle()\n",
    "            \n",
    "            i = 0\n",
    "            if l_arm:\n",
    "                to_keep[i] = body.pts[3].to_array()\n",
    "                to_keep[i+1] = body.pts[4].to_array()\n",
    "                i+=2\n",
    "            if r_arm:\n",
    "                to_keep[i] = body.pts[7].to_array()\n",
    "                to_keep[i+1] = body.pts[8].to_array()\n",
    "                i+=2\n",
    "            if l_leg:\n",
    "                to_keep[i] = body.pts[10].to_array()\n",
    "                to_keep[i+1] = body.pts[11].to_array()\n",
    "                i+=2\n",
    "            if r_leg:\n",
    "                to_keep[i] = body.pts[14].to_array()\n",
    "                to_keep[i+1] = body.pts[15].to_array()\n",
    "                i+=2\n",
    "            if neck_p:\n",
    "                to_keep[i] = body.pts[0].to_array()\n",
    "                i+=1\n",
    "            if general:\n",
    "                to_keep[i] = [scat.x[-1], scat.y[-1]]\n",
    "            \n",
    "            \n",
    "            scat.x , scat.y = np.transpose(to_keep)\n",
    "        \n",
    "        chest.x, chest.y = np.transpose([body.pts[1].to_array(), body.pts[2].to_array(), body.pts[9].to_array(), \\\n",
    "                                     body.pts[13].to_array(), body.pts[6].to_array(), body.pts[1].to_array()])\n",
    "        \n",
    "        i = 0\n",
    "        to_update = []\n",
    "        if l_arm:\n",
    "            left_arm.x, left_arm.y = [[body.pts[2].x, scat.x[i], scat.x[i+1]],[body.pts[2].y, scat.y[i], scat.y[i+1]]]\n",
    "            to_update.append(3)\n",
    "            to_update.append(4)\n",
    "            i+=2\n",
    "        if r_arm:\n",
    "            right_arm.x, right_arm.y = [[body.pts[6].x, scat.x[i], scat.x[i+1]],[body.pts[6].y, scat.y[i], scat.y[i+1]]]\n",
    "            to_update.append(7)\n",
    "            to_update.append(8)\n",
    "            i+=2\n",
    "        if l_leg:\n",
    "            left_leg.x, left_leg.y = [[body.pts[9].x, scat.x[i], scat.x[i+1]],[body.pts[9].y, scat.y[i], scat.y[i+1]]]\n",
    "            to_update.append(10)\n",
    "            to_update.append(11)\n",
    "            i+=2\n",
    "        if r_leg:\n",
    "            right_leg.x, right_leg.y = [[body.pts[13].x, scat.x[i], scat.x[i+1]],[body.pts[13].y, scat.y[i], scat.y[i+1]]]\n",
    "            to_update.append(14)\n",
    "            to_update.append(15)\n",
    "            i+=2\n",
    "        if neck_p:\n",
    "            to_update.append(0)\n",
    "            neck.x, neck.y = [[body.pts[1].x, scat.x[i]],[body.pts[1].y, scat.y[i]]]\n",
    "            \n",
    "        \n",
    "        head.x = np.cos(np.linspace(0, 2*np.pi, 100))*60+body.pts[0].x\n",
    "        head.y = np.sin(np.linspace(0, 2*np.pi, 100))*65+body.pts[0].y\n",
    "        \n",
    "        \n",
    "        #update body\n",
    "        for i in range(len(to_update)):\n",
    "            body.pts[to_update[i]].x = scat.x[i]\n",
    "            body.pts[to_update[i]].y =  scat.y[i]\n",
    "        \n",
    "        return\n",
    "    \n",
    "    \n",
    "    \n",
    "    scales = {'x': bqp.LinearScale(min= 0, max= 1000),\n",
    "             'y' : bqp.LinearScale(min = 1000, max = 0)}\n",
    "    \n",
    "    marks = []\n",
    "    \n",
    "   \n",
    "    \n",
    "    #movable points: arms first, left side first\n",
    "    scat = bqp.Scatter(scales = scales, enable_move = True, update_on_move = True, stroke_width = 7)\n",
    "    scat.x , scat.y = np.transpose(to_keep)\n",
    "    marks.append(scat)\n",
    "    \n",
    "    #draw the chest\n",
    "    chest = bqp.Lines(scales=scales)\n",
    "    chest.x, chest.y = np.transpose([body.pts[1].to_array(), body.pts[2].to_array(), body.pts[9].to_array(), \\\n",
    "                                     body.pts[13].to_array(), body.pts[6].to_array(), body.pts[1].to_array()])\n",
    "    marks.append(chest)\n",
    "    \n",
    "    \n",
    "    #draw the head\n",
    "    head = bqp.Lines(scales=scales)\n",
    "    head.x = np.cos(np.linspace(0, 2*np.pi, 100))*60+body.pts[0].x\n",
    "    head.y = np.sin(np.linspace(0, 2*np.pi, 100))*65+body.pts[0].y\n",
    "    marks.append(head)\n",
    "    \n",
    "    i = 0\n",
    "    #draw the left arm\n",
    "    left_arm = bqp.Lines(scales=scales)\n",
    "    if l_arm:\n",
    "        left_arm.x, left_arm.y = [[body.pts[2].x, scat.x[i], scat.x[i+1]],[body.pts[2].y, scat.y[i], scat.y[i+1]]]\n",
    "        i +=2\n",
    "    else:\n",
    "        left_arm.x, left_arm.y = [[body.pts[2].x, body.pts[3].x, body.pts[4].x],[body.pts[2].y, body.pts[3].y, body.pts[4].y]]\n",
    "    marks.append(left_arm)\n",
    "    \n",
    "    \n",
    "    #draw the right arm\n",
    "    right_arm = bqp.Lines(scales=scales)\n",
    "    if r_arm:\n",
    "        right_arm.x, right_arm.y = [[body.pts[6].x, scat.x[i], scat.x[i+1]],[body.pts[6].y, scat.y[i], scat.y[i+1]]]\n",
    "        i+=2\n",
    "    else:\n",
    "        right_arm.x, right_arm.y = [[body.pts[6].x, body.pts[7].x, body.pts[8].x],[body.pts[6].y, body.pts[7].y,body.pts[8].y]]\n",
    "    \n",
    "    marks.append(right_arm)\n",
    "    \n",
    "    \n",
    "    #draw the left leg\n",
    "    left_leg = bqp.Lines(scales=scales)\n",
    "    if l_leg:\n",
    "        left_leg.x, left_leg.y = [[body.pts[9].x, scat.x[i], scat.x[i+1]],[body.pts[9].y, scat.y[i], scat.y[i+1]]]\n",
    "        i+=2\n",
    "    else:\n",
    "        left_leg.x, left_leg.y = [[body.pts[9].x, body.pts[10].x, body.pts[11].x],[body.pts[9].y, body.pts[10].y,body.pts[11].y]]\n",
    "    marks.append(left_leg)\n",
    "    \n",
    "    \n",
    "    #draw the right leg\n",
    "    right_leg = bqp.Lines(scales=scales)\n",
    "    if r_leg:\n",
    "        right_leg.x, right_leg.y = [[body.pts[13].x, scat.x[i], scat.x[i+1]],[body.pts[13].y, scat.y[i], scat.y[i+1]]]\n",
    "        i+=2\n",
    "    else:\n",
    "        right_leg.x, right_leg.y = [[body.pts[13].x, body.pts[14].x, body.pts[15].x],[body.pts[13].y, body.pts[14].y, body.pts[15].y]]\n",
    "    marks.append(right_leg)\n",
    "    \n",
    "    \n",
    "    #draw the neck\n",
    "    neck =  bqp.Lines(scales=scales)\n",
    "    if neck_p:\n",
    "        neck.x, neck.y = [[body.pts[1].x, scat.x[i]],[body.pts[1].y, scat.y[i]]]\n",
    "        i+=1\n",
    "    else:\n",
    "        neck.x, neck.y = [[body.pts[1].x, body.pts[0].x],[body.pts[1].y, body.pts[0].y]]\n",
    "    marks.append(neck)\n",
    "    \n",
    "    scat.observe(refresh, names=['x', 'y'])\n",
    "    \n",
    "    return bqp.Figure(marks=marks, padding_y = 0., min_height = 750, min_width = 750)\n",
    "\n",
    "\n",
    "base_body = bd.angles_to_body(bd.angles(), ll, Point(500,300))\n",
    "interactive_body(base_body)"
   ]
  },
  {
   "cell_type": "code",
   "execution_count": 15,
   "metadata": {
    "collapsed": false
   },
   "outputs": [
    {
     "name": "stdout",
     "output_type": "stream",
     "text": [
      "['IMFILE', 'URL', 'SUBSET', 'CANDIDATE', 'ALL_PEAKS', 'AUTHOR', 'BORN-DIED', 'TITLE', 'DATE', 'TECHNIQUE', 'LOCATION', 'URL', 'FORM', 'TYPE', 'SCHOOL', 'TIMELINE']\n"
     ]
    }
   ],
   "source": [
    "print myPaintings[0]"
   ]
  },
  {
   "cell_type": "code",
   "execution_count": 22,
   "metadata": {
    "collapsed": false
   },
   "outputs": [
    {
     "name": "stdout",
     "output_type": "stream",
     "text": [
      "[[   0.           27.           56.           78.           -1.          105.\n",
      "   133.          150.          160.          177.          187.          197.\n",
      "   218.          228.          237.          261.          287.          307.\n",
      "    23.77752019   19.        ]\n",
      " [  -1.           44.           72.           86.          102.          121.\n",
      "   139.          151.          169.          181.          190.          210.\n",
      "    -1.           -1.           -1.           -1.          302.          318.\n",
      "    12.9781735    13.        ]\n",
      " [  24.           54.           76.           90.          104.          128.\n",
      "   143.           -1.          173.          184.          193.          215.\n",
      "   225.          234.          260.          285.          305.          322.\n",
      "    19.04681841   17.        ]\n",
      " [  23.           48.           73.           88.           -1.          126.\n",
      "   142.          155.          170.          183.           -1.          211.\n",
      "    -1.           -1.          259.          284.           -1.          321.\n",
      "    14.41940013   13.        ]\n",
      " [  15.           41.           68.           83.           98.          118.\n",
      "    -1.           -1.          166.           -1.           -1.          206.\n",
      "    -1.           -1.          251.          277.          298.          317.\n",
      "    11.56147723   12.        ]\n",
      " [   7.           33.           62.           82.           95.          112.\n",
      "   132.          147.          164.          174.           -1.          201.\n",
      "    -1.           -1.          243.          267.          292.          310.\n",
      "    16.46000053   15.        ]\n",
      " [  13.           40.           67.           -1.           -1.          117.\n",
      "   138.          152.          168.           -1.           -1.          205.\n",
      "    -1.           -1.           -1.          275.           -1.          316.\n",
      "     8.37530555   10.        ]\n",
      " [   1.           26.           55.           -1.           -1.          106.\n",
      "   131.          148.          158.          176.           -1.          196.\n",
      "   216.           -1.          238.          262.          288.          306.\n",
      "    12.68822036   14.        ]\n",
      " [   5.           31.           58.           77.           91.          109.\n",
      "   130.          145.          161.          179.          188.          200.\n",
      "   219.          229.          242.          266.          290.           -1.\n",
      "    16.28566956   17.        ]\n",
      " [  25.           53.           75.           -1.           -1.          129.\n",
      "   144.          156.          172.          185.          194.          214.\n",
      "   226.          236.           -1.          286.           -1.          323.\n",
      "    16.21433141   14.        ]\n",
      " [  19.           47.           70.           84.          100.          124.\n",
      "   141.           -1.           -1.           -1.           -1.          208.\n",
      "    -1.           -1.          257.          280.           -1.          320.\n",
      "     9.59612297   11.        ]\n",
      " [   4.           30.           59.           80.           96.          110.\n",
      "   135.           -1.          159.          175.          186.          199.\n",
      "   217.          227.          241.          265.          291.          309.\n",
      "    12.64631104   17.        ]\n",
      " [  12.           38.           65.           -1.           -1.          115.\n",
      "   136.           -1.          165.           -1.           -1.          203.\n",
      "    -1.           -1.          249.           -1.          296.          315.\n",
      "     8.34054318   10.        ]\n",
      " [  21.           46.           71.           85.          101.          123.\n",
      "    -1.           -1.           -1.           -1.           -1.          212.\n",
      "   224.          235.          256.          281.          303.          319.\n",
      "     9.41996054   13.        ]\n",
      " [  -1.           52.           74.           89.          103.          127.\n",
      "    -1.           -1.          171.          182.          192.          213.\n",
      "   223.          232.           -1.           -1.          304.           -1.\n",
      "    13.26892661   12.        ]\n",
      " [  10.           37.           64.           -1.           -1.          114.\n",
      "    -1.           -1.          162.          178.           -1.          202.\n",
      "    -1.           -1.          247.          273.          295.          314.\n",
      "     6.96937149   11.        ]\n",
      " [   3.           28.           57.           -1.           -1.           -1.\n",
      "    -1.           -1.           -1.           -1.           -1.           -1.\n",
      "    -1.           -1.          240.          264.          289.           -1.\n",
      "     4.0773115     6.        ]\n",
      " [   8.           32.           60.           79.           92.          111.\n",
      "    -1.           -1.          157.           -1.           -1.          195.\n",
      "    -1.           -1.          244.          269.           -1.          312.\n",
      "     6.48608963   11.        ]\n",
      " [   6.           29.           61.           -1.           -1.          107.\n",
      "    -1.           -1.           -1.           -1.           -1.          198.\n",
      "    -1.           -1.           -1.          268.          293.          311.\n",
      "     5.31542294    9.        ]\n",
      " [  18.           43.           69.           87.           -1.          120.\n",
      "    -1.           -1.           -1.           -1.           -1.           -1.\n",
      "    -1.           -1.          254.           -1.          300.           -1.\n",
      "     2.85905215    7.        ]\n",
      " [  -1.           36.           63.           81.           99.           -1.\n",
      "    -1.           -1.          163.          180.          189.           -1.\n",
      "    -1.           -1.          245.           -1.          294.           -1.\n",
      "     4.23654808    9.        ]\n",
      " [  17.           42.           -1.           -1.           -1.          119.\n",
      "   140.          153.           -1.           -1.           -1.          207.\n",
      "   221.           -1.          253.          279.          299.           -1.\n",
      "     5.89470863   10.        ]\n",
      " [  22.           49.           -1.           -1.           -1.          125.\n",
      "    -1.           -1.           -1.           -1.           -1.          209.\n",
      "   222.          231.          258.          283.          304.           -1.\n",
      "     7.80380956    9.        ]\n",
      " [  20.           45.           -1.           -1.           -1.          122.\n",
      "    -1.           -1.           -1.           -1.           -1.           -1.\n",
      "    -1.           -1.          255.          282.          301.           -1.\n",
      "     2.68760593    6.        ]\n",
      " [   9.           35.           -1.           -1.           -1.           -1.\n",
      "    -1.           -1.          167.           -1.           -1.          204.\n",
      "    -1.           -1.          246.          272.          293.          313.\n",
      "     5.27847888    8.        ]\n",
      " [   2.           -1.           -1.           -1.           -1.           -1.\n",
      "    -1.           -1.           -1.           -1.           -1.           -1.\n",
      "    -1.           -1.          239.          263.           -1.          307.\n",
      "     4.27880456    4.        ]]\n"
     ]
    }
   ],
   "source": [
    "print myPaintings[53][2]"
   ]
  },
  {
   "cell_type": "code",
   "execution_count": null,
   "metadata": {
    "collapsed": true
   },
   "outputs": [],
   "source": []
  }
 ],
 "metadata": {
  "kernelspec": {
   "display_name": "Python 2",
   "language": "python",
   "name": "python2"
  },
  "language_info": {
   "codemirror_mode": {
    "name": "ipython",
    "version": 2
   },
   "file_extension": ".py",
   "mimetype": "text/x-python",
   "name": "python",
   "nbconvert_exporter": "python",
   "pygments_lexer": "ipython2",
   "version": "2.7.13"
  },
  "widgets": {
   "state": {
    "0cdd96d47b0d4aca8727cf4ab1441c5e": {
     "views": [
      {
       "cell_index": 11
      }
     ]
    }
   },
   "version": "1.2.0"
  }
 },
 "nbformat": 4,
 "nbformat_minor": 2
}
