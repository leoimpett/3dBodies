{
 "cells": [
  {
   "cell_type": "code",
   "execution_count": 1,
   "metadata": {
    "collapsed": false
   },
   "outputs": [],
   "source": [
    "import bd\n",
    "import pickle\n",
    "import numpy as np\n",
    "from Point import Point\n",
    "\n",
    "import matplotlib\n",
    "%matplotlib inline\n",
    "from matplotlib import pyplot as plt"
   ]
  },
  {
   "cell_type": "code",
   "execution_count": 2,
   "metadata": {
    "collapsed": true
   },
   "outputs": [],
   "source": [
    "#constants\n",
    "ratio = 2\n",
    "black = (0,0,0)\n",
    "red = (1,0,0)\n",
    "width, height = 1000, 1000\n",
    "\n",
    "#to keep\n",
    "l_arm = False\n",
    "r_arm = True\n",
    "l_leg = True\n",
    "r_leg = True\n",
    "neck = True\n",
    "general = True\n",
    "\n",
    "to_keep = [l_arm, r_arm, l_leg, r_leg, neck, general]"
   ]
  },
  {
   "cell_type": "code",
   "execution_count": 3,
   "metadata": {
    "collapsed": true
   },
   "outputs": [],
   "source": [
    "myPaintings = pickle.load(open('../../Python Scripts/myPaintings21400.p', 'rb'))\n",
    "\n",
    "\n",
    "## HERE go buc corrections to the catalog, which are numerous.... \n",
    "myPaintings[7465][1] = 'http://www.wga.hu/art/c/casa/portrait_C.jpg' ## and NOT portrait_c (lowercase), the original...\n"
   ]
  },
  {
   "cell_type": "code",
   "execution_count": 4,
   "metadata": {
    "collapsed": false,
    "scrolled": true
   },
   "outputs": [],
   "source": [
    "#6 seconds in my computer\n",
    "all_bodies = bd.construct_body_list(21400, myPaintings)"
   ]
  },
  {
   "cell_type": "code",
   "execution_count": 5,
   "metadata": {
    "collapsed": false
   },
   "outputs": [],
   "source": [
    "all_relative_angles = bd.all_relative_angles(all_bodies)\n",
    "deviation = bd.compute_std_deviation(all_relative_angles)"
   ]
  },
  {
   "cell_type": "code",
   "execution_count": 6,
   "metadata": {
    "collapsed": true
   },
   "outputs": [],
   "source": [
    "ll = bd.all_bodies_mean_limb_length(all_bodies)  * np.array(ratio)\n",
    "ml = bd.middle_mean_length(all_bodies) * ratio"
   ]
  },
  {
   "cell_type": "code",
   "execution_count": 7,
   "metadata": {
    "collapsed": true
   },
   "outputs": [],
   "source": [
    "resized_bodies = bd.resize_bodies(all_bodies, ml)\n",
    "mlb = bd.middle_mean_length(resized_bodies)"
   ]
  },
  {
   "cell_type": "code",
   "execution_count": 8,
   "metadata": {
    "collapsed": false
   },
   "outputs": [
    {
     "name": "stdout",
     "output_type": "stream",
     "text": [
      "[  78.76108245   78.5162604   143.65955379  108.75055578  140.72498532\n",
      "  105.67785164  236.14645864  164.28877967  175.92032288  235.67802388\n",
      "  163.71555608  175.78221254  117.18822694    0.            0.            0.\n",
      "    0.        ]\n"
     ]
    }
   ],
   "source": [
    "base_body = bd.angles_to_body(bd.angles(), ll, Point(500,300))\n",
    "print ll"
   ]
  },
  {
   "cell_type": "code",
   "execution_count": 9,
   "metadata": {
    "collapsed": false
   },
   "outputs": [
    {
     "data": {
      "image/png": "[encoded data removed]",
      "text/plain": [
       "<matplotlib.figure.Figure at 0x89ad860>"
      ]
     },
     "metadata": {},
     "output_type": "display_data"
    }
   ],
   "source": [
    "body_id = 3525\n",
    "img = np.ones((height, width, 3))\n",
    "\n",
    "\n",
    "resized_bodies[body_id].draw(img, red)\n",
    "\n",
    "\n",
    "plt.imshow(img)\n",
    "fig = matplotlib.pyplot.gcf()\n",
    "fig.set_size_inches(10, 10)"
   ]
  },
  {
   "cell_type": "code",
   "execution_count": 10,
   "metadata": {
    "collapsed": false
   },
   "outputs": [
    {
     "data": {
      "image/png": "[encoded data removed]",
      "text/plain": [
       "<matplotlib.figure.Figure at 0x8ae3c88>"
      ]
     },
     "metadata": {},
     "output_type": "display_data"
    }
   ],
   "source": [
    "img = np.ones((height, width, 3))\n",
    "\n",
    "base_body.draw(img, red)\n",
    "\n",
    "\n",
    "plt.imshow(img)\n",
    "fig = matplotlib.pyplot.gcf()\n",
    "fig.set_size_inches(10, 10)"
   ]
  },
  {
   "cell_type": "code",
   "execution_count": 11,
   "metadata": {
    "collapsed": false
   },
   "outputs": [
    {
     "name": "stdout",
     "output_type": "stream",
     "text": [
      "[[ 3525 13098 13095 16468 11237 41662 26639 28740 65465 23603 20827 42298\n",
      "  31218 37743 63790 30645 56459 21808 52372  3418 59290 61982 32912 10093\n",
      "  23625 31313 30476 43532 66309 61266 15129 40715 26755 10701  4650 40106\n",
      "   3594  3417 11958 43104 67803 15731 25475 25590 43575 22769 41737 32861\n",
      "  56145 32806 38244 38733  3630 53585 35215 61263 16894 60831 51819  1306\n",
      "  52373 37964   264 23744 54096 15712 52238  1573 24599 28652 61496 12612\n",
      "  10888 57218 23997 18695 64959 20458 38029 23545 38196 23549 38492  2328\n",
      "   9737 65810 29146  5006 34427 16148 10852  9151 28993 58035 44590 11779\n",
      "    720 59195 23537 21702]]\n"
     ]
    }
   ],
   "source": [
    "d,i = bd.get_n_nearest_neighbor(all_relative_angles, base_body, deviation, to_keep, n=100, dist=50)\n",
    "print i"
   ]
  },
  {
   "cell_type": "code",
   "execution_count": 12,
   "metadata": {
    "collapsed": false
   },
   "outputs": [],
   "source": [
    "#to change the number of random paintings, change n\n",
    "n = 10\n",
    "bd.p_values_random_hypothesis(n, myPaintings, all_bodies, all_relative_angles, deviation, 'a')"
   ]
  },
  {
   "cell_type": "code",
   "execution_count": null,
   "metadata": {
    "collapsed": true
   },
   "outputs": [],
   "source": []
  }
 ],
 "metadata": {
  "kernelspec": {
   "display_name": "Python 2",
   "language": "python",
   "name": "python2"
  },
  "language_info": {
   "codemirror_mode": {
    "name": "ipython",
    "version": 2
   },
   "file_extension": ".py",
   "mimetype": "text/x-python",
   "name": "python",
   "nbconvert_exporter": "python",
   "pygments_lexer": "ipython2",
   "version": "2.7.13"
  }
 },
 "nbformat": 4,
 "nbformat_minor": 2
}
