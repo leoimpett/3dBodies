{
 "cells": [
  {
   "cell_type": "code",
   "execution_count": 1,
   "metadata": {
    "collapsed": false
   },
   "outputs": [],
   "source": [
    "import bd\n",
    "import pickle\n",
    "import numpy as np\n",
    "from Point import Point\n",
    "\n",
    "import matplotlib\n",
    "%matplotlib inline\n",
    "from matplotlib import pyplot as plt"
   ]
  },
  {
   "cell_type": "code",
   "execution_count": 46,
   "metadata": {
    "collapsed": true
   },
   "outputs": [],
   "source": [
    "#constants\n",
    "ratio = 0.2\n",
    "black = (0,0,0)\n",
    "red = (1,0,0)\n",
    "width, height = 1000, 1000\n",
    "\n",
    "#to keep\n",
    "l_arm = False\n",
    "r_arm = True\n",
    "l_leg = True\n",
    "r_leg = True\n",
    "neck = True\n",
    "general = True\n",
    "\n",
    "to_keep = [l_arm, r_arm, l_leg, r_leg, neck, general]"
   ]
  },
  {
   "cell_type": "code",
   "execution_count": 24,
   "metadata": {
    "collapsed": true
   },
   "outputs": [],
   "source": [
    "myPaintings = pickle.load(open('../../Python Scripts/myPaintings21400.p', 'rb'))\n",
    "\n",
    "\n",
    "## HERE go buc corrections to the catalog, which are numerous.... \n",
    "myPaintings[7465][1] = 'http://www.wga.hu/art/c/casa/portrait_C.jpg' ## and NOT portrait_c (lowercase), the original...\n"
   ]
  },
  {
   "cell_type": "code",
   "execution_count": 34,
   "metadata": {
    "collapsed": false,
    "scrolled": true
   },
   "outputs": [],
   "source": [
    "#6 seconds in my computer\n",
    "all_bodies = bd.construct_body_list(21400, myPaintings)"
   ]
  },
  {
   "cell_type": "code",
   "execution_count": 35,
   "metadata": {
    "collapsed": false
   },
   "outputs": [],
   "source": [
    "all_relative_angles = bd.all_relative_angles(all_bodies)\n",
    "deviation = bd.compute_std_deviation(all_relative_angles)"
   ]
  },
  {
   "cell_type": "code",
   "execution_count": 47,
   "metadata": {
    "collapsed": true
   },
   "outputs": [],
   "source": [
    "ll = bd.all_bodies_mean_limb_length(all_bodies)  * np.array(ratio)\n",
    "ml = bd.middle_mean_length(all_bodies) * ratio"
   ]
  },
  {
   "cell_type": "code",
   "execution_count": 48,
   "metadata": {
    "collapsed": true
   },
   "outputs": [],
   "source": [
    "resized_bodies = bd.resize_bodies(all_bodies, ml)\n",
    "mlb = bd.middle_mean_length(resized_bodies)"
   ]
  },
  {
   "cell_type": "code",
   "execution_count": 49,
   "metadata": {
    "collapsed": false
   },
   "outputs": [],
   "source": [
    "base_body = bd.angles_to_body(bd.angles(), ll, Point(500,300))"
   ]
  },
  {
   "cell_type": "code",
   "execution_count": 50,
   "metadata": {
    "collapsed": false
   },
   "outputs": [
    {
     "data": {
      "image/png": "[encoded data removed]",
      "text/plain": [
       "<matplotlib.figure.Figure at 0xb8c7a90>"
      ]
     },
     "metadata": {},
     "output_type": "display_data"
    }
   ],
   "source": [
    "body_id = 3525\n",
    "img = np.ones((height, width, 3))\n",
    "\n",
    "\n",
    "resized_bodies[body_id].draw(img, red)\n",
    "\n",
    "\n",
    "plt.imshow(img)\n",
    "fig = matplotlib.pyplot.gcf()\n",
    "fig.set_size_inches(10, 10)"
   ]
  },
  {
   "cell_type": "code",
   "execution_count": 51,
   "metadata": {
    "collapsed": false
   },
   "outputs": [
    {
     "name": "stdout",
     "output_type": "stream",
     "text": [
      "x: 500\ty: 550\n",
      "x: 500\ty: 300\n",
      "x: 872\ty: 300\n",
      "x: 911\ty: 300\n",
      "x: 927\ty: 300\n",
      "invalid\n",
      "x: 118\ty: 300\n",
      "x: 84\ty: 300\n",
      "x: 70\ty: 300\n",
      "x: 522\ty: 216\n",
      "x: 522\ty: 232\n",
      "x: 522\ty: 249\n",
      "invalid\n",
      "x: 478\ty: 216\n",
      "x: 478\ty: 232\n",
      "x: 478\ty: 249\n",
      "invalid\n",
      "invalid\n",
      "invalid\n",
      "invalid\n"
     ]
    },
    {
     "data": {
      "image/png": "[encoded data removed]",
      "text/plain": [
       "<matplotlib.figure.Figure at 0xb8c7470>"
      ]
     },
     "metadata": {},
     "output_type": "display_data"
    }
   ],
   "source": [
    "img = np.ones((height, width, 3))\n",
    "\n",
    "base_body.draw(img, red)\n",
    "for p in base_body.pts:\n",
    "    print p.to_string()\n",
    "\n",
    "\n",
    "plt.imshow(img)\n",
    "fig = matplotlib.pyplot.gcf()\n",
    "fig.set_size_inches(10, 10)"
   ]
  },
  {
   "cell_type": "code",
   "execution_count": 52,
   "metadata": {
    "collapsed": false
   },
   "outputs": [
    {
     "name": "stdout",
     "output_type": "stream",
     "text": [
      "[[ 5749 48528 38177 31438 12466  9826 33673 54374 10876 51797 66784 15225\n",
      "  12378 48445 35666 49566 48399 48397 66045 43603 18950 48447 44615 40223\n",
      "  20998 29703 57692 48073 41417 57960 49080 51611 49006 51430 51740  9688\n",
      "  63541 51950 29753  7342 24375  5401 51425 27493 20942 20208 47982 48233\n",
      "  57437 52230 15016 40707 57699 35063 43393  1123  9188 28977 65500   765\n",
      "  64590  4153 22302 14270  8212 32699 18052 22224  6793 45126 14271 37476\n",
      "  61703 18636 22516 40984 24467 46614 30024 44483 24695 22194 34550 15514\n",
      "  66800 65971 52130 11734 41786  5179 59727 66775 32742 29694 56824 30123\n",
      "  57686 19127 54562 48439]]\n"
     ]
    }
   ],
   "source": [
    "d,i = bd.get_n_nearest_neighbor(all_relative_angles, base_body, deviation, to_keep, n=100, dist=50)\n",
    "print i"
   ]
  },
  {
   "cell_type": "code",
   "execution_count": 23,
   "metadata": {
    "collapsed": false
   },
   "outputs": [
    {
     "name": "stdout",
     "output_type": "stream",
     "text": [
      "[[18, 0.04, 0.05, 0.02, 0.01, 0.01], [18, 0.04, 0.05, 0.02, 0.01, 0.01], [18, 0.04, 0.05, 0.02, 0.01, 0.01], [18, 0.04, 0.05, 0.02, 0.01, 0.01], [18, 0.04, 0.05, 0.02, 0.01, 0.01], [18, 0.04, 0.05, 0.02, 0.01, 0.01]]\n"
     ]
    }
   ],
   "source": [
    "# painting_id,p1,p2,p3,p4,min_p\n",
    "\n",
    "\n",
    "\n",
    "\n",
    "def write_p_values(ps):\n",
    "    \n",
    "    def to_string(l):\n",
    "        ls = list()\n",
    "        for i in l:\n",
    "            ls.append(str(i))\n",
    "        return ls\n",
    "    \n",
    "    f = open('p_values.txt', 'a')\n",
    "    if len(ps) == 0:\n",
    "        f.close()\n",
    "        return\n",
    "    for l in ps:\n",
    "        l = to_string(l)\n",
    "        f.write(','.join(l))\n",
    "        f.write('\\n')\n",
    "    f.close()\n",
    "\n",
    "def read_p_values():\n",
    "    \n",
    "    def to_int_float(l):\n",
    "        ls = list()\n",
    "        for i in range(len(l)):\n",
    "            if i == 0:\n",
    "                ls.append(int(l[i]))\n",
    "            else:\n",
    "                ls.append(float(l[i]))\n",
    "\n",
    "        return ls\n",
    "    \n",
    "    f = open('p_values.txt', 'r')\n",
    "    ps = list()\n",
    "    l = f.readline()\n",
    "    while l:\n",
    "        ls = to_int_float(l.split(','))\n",
    "        ps.append(ls)\n",
    "        l = f.readline()\n",
    "    return ps     "
   ]
  },
  {
   "cell_type": "code",
   "execution_count": 53,
   "metadata": {
    "collapsed": false
   },
   "outputs": [
    {
     "name": "stdout",
     "output_type": "stream",
     "text": [
      "69471\n"
     ]
    }
   ],
   "source": [
    "print len(all_bodies)\n",
    "    "
   ]
  },
  {
   "cell_type": "code",
   "execution_count": 69,
   "metadata": {
    "collapsed": false
   },
   "outputs": [
    {
     "name": "stdout",
     "output_type": "stream",
     "text": [
      "[0.00064337777881886887, 0.046794153920702991, 2.1439088627894707e-07, 0.00039708674134079073]\n"
     ]
    }
   ],
   "source": [
    "from collections import Counter\n",
    "from collections import OrderedDict\n",
    "from scipy import stats\n",
    "import random\n",
    "import pandas\n",
    "\n",
    "\n",
    "def p_values_from_random(paintings, bodies, angles, deviation):\n",
    "    \"\"\"plot an histogram of the paintings' form, type, school and timeline, specify explicitely which you want,\n",
    "    default values are False\n",
    "    returns the p-values of each graph\"\"\"\n",
    "    #generate random n\n",
    "    n = random.randint(20,100)\n",
    "    \n",
    "    #get a random body from all the bodies\n",
    "    b = random.randint(0, len(bodies)-1)\n",
    "    base_body = bodies[b]\n",
    "    \n",
    "    keep = [True] * 6\n",
    "    \n",
    "    neighbors = bd.get_n_nearest_neighbor(angles, base_body, deviation, keep, n=n, dist=150)[1][0]\n",
    "    subpaintings = list()\n",
    "    for i in neighbors:\n",
    "        subpaintings.append(paintings[bodies[i].painting])\n",
    "    \n",
    "    \n",
    "    zipped = zip(*paintings)\n",
    "    subzipped = zip(*subpaintings)\n",
    "    \n",
    "    p_values = list()\n",
    "    \n",
    "    i = [12,13,14,15]\n",
    "    \n",
    "    for k in i:\n",
    "        f = Counter(zipped[k])\n",
    "        sf = Counter(subzipped[k])\n",
    "        for key in f.keys():\n",
    "            f[key] /= float(len(paintings))\n",
    "            sf[key] /= float(len(subpaintings))\n",
    "            \n",
    "        \n",
    "        f = OrderedDict(sorted(f.items(), key=lambda t: t[0]))\n",
    "        sf = OrderedDict(sorted(sf.items(), key=lambda t: t[0]))\n",
    "        \n",
    "        v1 = f.values()\n",
    "        v2 = sf.values()\n",
    "        \n",
    "        \n",
    "        p_values.append(stats.ks_2samp(v1, v2)[1])\n",
    "    return p_values\n",
    "\n",
    "\n",
    "print p_values_from_random(myPaintings, all_bodies, all_relative_angles, deviation)"
   ]
  },
  {
   "cell_type": "code",
   "execution_count": null,
   "metadata": {
    "collapsed": true
   },
   "outputs": [],
   "source": []
  }
 ],
 "metadata": {
  "kernelspec": {
   "display_name": "Python 2",
   "language": "python",
   "name": "python2"
  },
  "language_info": {
   "codemirror_mode": {
    "name": "ipython",
    "version": 2
   },
   "file_extension": ".py",
   "mimetype": "text/x-python",
   "name": "python",
   "nbconvert_exporter": "python",
   "pygments_lexer": "ipython2",
   "version": "2.7.13"
  }
 },
 "nbformat": 4,
 "nbformat_minor": 2
}
