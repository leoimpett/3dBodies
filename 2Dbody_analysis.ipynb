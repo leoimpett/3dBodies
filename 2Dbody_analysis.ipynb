{
 "cells": [
  {
   "cell_type": "code",
   "execution_count": 1,
   "metadata": {
    "collapsed": false
   },
   "outputs": [],
   "source": [
    "import bd\n",
    "import pickle\n",
    "import numpy as np\n",
    "from Point import Point\n",
    "from Limb import Limb\n",
    "\n",
    "import matplotlib\n",
    "%matplotlib inline\n",
    "from matplotlib import pyplot as plt"
   ]
  },
  {
   "cell_type": "code",
   "execution_count": 2,
   "metadata": {
    "collapsed": true
   },
   "outputs": [],
   "source": [
    "#constants\n",
    "ratio = 2\n",
    "black = (0,0,0)\n",
    "red = (1,0,0)\n",
    "width, height = 1000, 1000\n",
    "\n",
    "#to keep\n",
    "l_arm = True\n",
    "r_arm = True\n",
    "l_leg = True\n",
    "r_leg = True\n",
    "neck = True\n",
    "general = True\n",
    "\n",
    "to_keep = [l_arm, r_arm, l_leg, r_leg, neck, general]"
   ]
  },
  {
   "cell_type": "code",
   "execution_count": 5,
   "metadata": {
    "collapsed": false
   },
   "outputs": [
    {
     "name": "stdout",
     "output_type": "stream",
     "text": [
      "21401\n",
      "14896\n"
     ]
    }
   ],
   "source": [
    "myPaintings = pickle.load(open('../../Python Scripts/myPaintings21400.p', 'rb'))[:21401]\n",
    "\n",
    "\n",
    "## HERE go buc corrections to the catalog, which are numerous.... \n",
    "myPaintings[7465][1] = 'http://www.wga.hu/art/c/casa/portrait_C.jpg' ## and NOT portrait_c (lowercase), the original...\n",
    "\n",
    "filtered_paintings = bd.filter_paintings(myPaintings)\n",
    "\n",
    "print len(myPaintings)\n",
    "print len(filtered_paintings)"
   ]
  },
  {
   "cell_type": "code",
   "execution_count": 6,
   "metadata": {
    "collapsed": false,
    "scrolled": true
   },
   "outputs": [
    {
     "name": "stdout",
     "output_type": "stream",
     "text": [
      "69471\n",
      "48689\n"
     ]
    }
   ],
   "source": [
    "#6 seconds in my computer\n",
    "all_bodies = bd.construct_body_list(21400, myPaintings)\n",
    "filtered_bodies = bd.filter_bodies(all_bodies)\n",
    "\n",
    "print len(all_bodies)\n",
    "print len(filtered_bodies)"
   ]
  },
  {
   "cell_type": "code",
   "execution_count": null,
   "metadata": {
    "collapsed": false
   },
   "outputs": [],
   "source": [
    "all_relative_angles = bd.all_relative_angles(all_bodies)\n",
    "deviation = bd.compute_std_deviation(all_relative_angles)"
   ]
  },
  {
   "cell_type": "code",
   "execution_count": null,
   "metadata": {
    "collapsed": true
   },
   "outputs": [],
   "source": [
    "ll = bd.all_bodies_mean_limb_length(all_bodies)  * np.array(ratio)\n",
    "ml = bd.middle_mean_length(all_bodies) * ratio"
   ]
  },
  {
   "cell_type": "code",
   "execution_count": null,
   "metadata": {
    "collapsed": true
   },
   "outputs": [],
   "source": [
    "resized_bodies = bd.resize_bodies(all_bodies, ml)\n",
    "mlb = bd.middle_mean_length(resized_bodies)"
   ]
  },
  {
   "cell_type": "code",
   "execution_count": null,
   "metadata": {
    "collapsed": false
   },
   "outputs": [],
   "source": [
    "body_id = 52500\n",
    "img = np.ones((height, width, 3))\n",
    "\n",
    "\n",
    "resized_bodies[body_id].draw(img, red)\n",
    "\n",
    "\n",
    "plt.imshow(img)\n",
    "fig = matplotlib.pyplot.gcf()\n",
    "fig.set_size_inches(10, 10)"
   ]
  },
  {
   "cell_type": "code",
   "execution_count": null,
   "metadata": {
    "collapsed": false
   },
   "outputs": [],
   "source": [
    "img = np.ones((height, width, 3))\n",
    "base_body = bd.angles_to_body(bd.angles(), ll, Point(500,300))\n",
    "\n",
    "base_body.rotate(120)\n",
    "base_body.draw(img, red)\n",
    "\n",
    "\n",
    "plt.imshow(img)\n",
    "fig = matplotlib.pyplot.gcf()\n",
    "fig.set_size_inches(10, 10)"
   ]
  },
  {
   "cell_type": "code",
   "execution_count": null,
   "metadata": {
    "collapsed": false
   },
   "outputs": [],
   "source": [
    "d,i = bd.get_n_nearest_neighbor(all_relative_angles, base_body, deviation, to_keep, n=100, dist=50)\n",
    "print i"
   ]
  },
  {
   "cell_type": "code",
   "execution_count": null,
   "metadata": {
    "collapsed": false
   },
   "outputs": [],
   "source": [
    "#to change the number of random paintings, change n\n",
    "import time\n",
    "n = 20\n",
    "t = time.time()\n",
    "bd.p_values_random_hypothesis(n, myPaintings, all_bodies, all_relative_angles, deviation, 'a')\n",
    "print time.time() -t"
   ]
  },
  {
   "cell_type": "code",
   "execution_count": null,
   "metadata": {
    "collapsed": false
   },
   "outputs": [],
   "source": [
    "import bqplot as bqp\n",
    "\n",
    "\n",
    "def interactive_body(body, l_arm = True, r_arm = True, l_leg = True, r_leg = True, neck_p = True, general = True):\n",
    "    \"\"\"Plot an interactive body with which we can play.\"\"\"\n",
    "    \n",
    "    middle = Limb(body.pts[9], body.pts[13]).middle()\n",
    "    to_keep=list()\n",
    "    if l_arm:\n",
    "        to_keep.append(body.pts[3].to_array())\n",
    "        to_keep.append(body.pts[4].to_array())\n",
    "    if r_arm:\n",
    "        to_keep.append(body.pts[7].to_array())\n",
    "        to_keep.append(body.pts[8].to_array())\n",
    "    if l_leg:\n",
    "        to_keep.append(body.pts[10].to_array())\n",
    "        to_keep.append(body.pts[11].to_array())\n",
    "    if r_leg:\n",
    "        to_keep.append(body.pts[14].to_array())\n",
    "        to_keep.append(body.pts[15].to_array())\n",
    "    if neck_p:\n",
    "        to_keep.append(body.pts[0].to_array())\n",
    "    if general:\n",
    "        to_keep.append(middle.to_array())\n",
    "        \n",
    "        \n",
    "    def refresh(_):\n",
    "        middle = Limb(body.pts[9], body.pts[13]).middle()\n",
    "        if (not abs(scat.x[-1] - middle.x) < 10) or (not abs(scat.y[-1] - middle.y)<10):\n",
    "            o = body.pts[1]\n",
    "            a = Point(scat.x[-1], scat.y[-1]).angle(o) - middle.angle(o)\n",
    "            body.rotate(a)\n",
    "            \n",
    "            middle = Limb(body.pts[9], body.pts[13]).middle()\n",
    "            \n",
    "            i = 0\n",
    "            if l_arm:\n",
    "                to_keep[i] = body.pts[3].to_array()\n",
    "                to_keep[i+1] = body.pts[4].to_array()\n",
    "                i+=2\n",
    "            if r_arm:\n",
    "                to_keep[i] = body.pts[7].to_array()\n",
    "                to_keep[i+1] = body.pts[8].to_array()\n",
    "                i+=2\n",
    "            if l_leg:\n",
    "                to_keep[i] = body.pts[10].to_array()\n",
    "                to_keep[i+1] = body.pts[11].to_array()\n",
    "                i+=2\n",
    "            if r_leg:\n",
    "                to_keep[i] = body.pts[14].to_array()\n",
    "                to_keep[i+1] = body.pts[15].to_array()\n",
    "                i+=2\n",
    "            if neck_p:\n",
    "                to_keep[i] = body.pts[0].to_array()\n",
    "                i+=1\n",
    "            if general:\n",
    "                to_keep[i] = [scat.x[-1], scat.y[-1]]\n",
    "            \n",
    "            \n",
    "            scat.x , scat.y = np.transpose(to_keep)\n",
    "        \n",
    "        chest.x, chest.y = np.transpose([body.pts[1].to_array(), body.pts[2].to_array(), body.pts[9].to_array(), \\\n",
    "                                     body.pts[13].to_array(), body.pts[6].to_array(), body.pts[1].to_array()])\n",
    "        \n",
    "        i = 0\n",
    "        to_update = []\n",
    "        if l_arm:\n",
    "            left_arm.x, left_arm.y = [[body.pts[2].x, scat.x[i], scat.x[i+1]],[body.pts[2].y, scat.y[i], scat.y[i+1]]]\n",
    "            to_update.append(3)\n",
    "            to_update.append(4)\n",
    "            i+=2\n",
    "        if r_arm:\n",
    "            right_arm.x, right_arm.y = [[body.pts[6].x, scat.x[i], scat.x[i+1]],[body.pts[6].y, scat.y[i], scat.y[i+1]]]\n",
    "            to_update.append(7)\n",
    "            to_update.append(8)\n",
    "            i+=2\n",
    "        if l_leg:\n",
    "            left_leg.x, left_leg.y = [[body.pts[9].x, scat.x[i], scat.x[i+1]],[body.pts[9].y, scat.y[i], scat.y[i+1]]]\n",
    "            to_update.append(10)\n",
    "            to_update.append(11)\n",
    "            i+=2\n",
    "        if r_leg:\n",
    "            right_leg.x, right_leg.y = [[body.pts[13].x, scat.x[i], scat.x[i+1]],[body.pts[13].y, scat.y[i], scat.y[i+1]]]\n",
    "            to_update.append(14)\n",
    "            to_update.append(15)\n",
    "            i+=2\n",
    "        if neck_p:\n",
    "            to_update.append(0)\n",
    "            neck.x, neck.y = [[body.pts[1].x, scat.x[i]],[body.pts[1].y, scat.y[i]]]\n",
    "            \n",
    "        \n",
    "        head.x = np.cos(np.linspace(0, 2*np.pi, 100))*60+body.pts[0].x\n",
    "        head.y = np.sin(np.linspace(0, 2*np.pi, 100))*65+body.pts[0].y\n",
    "        \n",
    "        \n",
    "        #update body\n",
    "        for i in range(len(to_update)):\n",
    "            body.pts[to_update[i]].x = scat.x[i]\n",
    "            body.pts[to_update[i]].y =  scat.y[i]\n",
    "        \n",
    "        return\n",
    "    \n",
    "    \n",
    "    \n",
    "    scales = {'x': bqp.LinearScale(min= 0, max= 1000),\n",
    "             'y' : bqp.LinearScale(min = 1000, max = 0)}\n",
    "    \n",
    "    marks = []\n",
    "    \n",
    "   \n",
    "    \n",
    "    #movable points: arms first, left side first\n",
    "    scat = bqp.Scatter(scales = scales, enable_move = True, update_on_move = True, stroke_width = 7)\n",
    "    scat.x , scat.y = np.transpose(to_keep)\n",
    "    marks.append(scat)\n",
    "    \n",
    "    #draw the chest\n",
    "    chest = bqp.Lines(scales=scales)\n",
    "    chest.x, chest.y = np.transpose([body.pts[1].to_array(), body.pts[2].to_array(), body.pts[9].to_array(), \\\n",
    "                                     body.pts[13].to_array(), body.pts[6].to_array(), body.pts[1].to_array()])\n",
    "    marks.append(chest)\n",
    "    \n",
    "    \n",
    "    #draw the head\n",
    "    head = bqp.Lines(scales=scales)\n",
    "    head.x = np.cos(np.linspace(0, 2*np.pi, 100))*60+body.pts[0].x\n",
    "    head.y = np.sin(np.linspace(0, 2*np.pi, 100))*65+body.pts[0].y\n",
    "    marks.append(head)\n",
    "    \n",
    "    i = 0\n",
    "    #draw the left arm\n",
    "    left_arm = bqp.Lines(scales=scales)\n",
    "    if l_arm:\n",
    "        left_arm.x, left_arm.y = [[body.pts[2].x, scat.x[i], scat.x[i+1]],[body.pts[2].y, scat.y[i], scat.y[i+1]]]\n",
    "        i +=2\n",
    "    else:\n",
    "        left_arm.x, left_arm.y = [[body.pts[2].x, body.pts[3].x, body.pts[4].x],[body.pts[2].y, body.pts[3].y, body.pts[4].y]]\n",
    "    marks.append(left_arm)\n",
    "    \n",
    "    \n",
    "    #draw the right arm\n",
    "    right_arm = bqp.Lines(scales=scales)\n",
    "    if r_arm:\n",
    "        right_arm.x, right_arm.y = [[body.pts[6].x, scat.x[i], scat.x[i+1]],[body.pts[6].y, scat.y[i], scat.y[i+1]]]\n",
    "        i+=2\n",
    "    else:\n",
    "        right_arm.x, right_arm.y = [[body.pts[6].x, body.pts[7].x, body.pts[8].x],[body.pts[6].y, body.pts[7].y,body.pts[8].y]]\n",
    "    \n",
    "    marks.append(right_arm)\n",
    "    \n",
    "    \n",
    "    #draw the left leg\n",
    "    left_leg = bqp.Lines(scales=scales)\n",
    "    if l_leg:\n",
    "        left_leg.x, left_leg.y = [[body.pts[9].x, scat.x[i], scat.x[i+1]],[body.pts[9].y, scat.y[i], scat.y[i+1]]]\n",
    "        i+=2\n",
    "    else:\n",
    "        left_leg.x, left_leg.y = [[body.pts[9].x, body.pts[10].x, body.pts[11].x],[body.pts[9].y, body.pts[10].y,body.pts[11].y]]\n",
    "    marks.append(left_leg)\n",
    "    \n",
    "    \n",
    "    #draw the right leg\n",
    "    right_leg = bqp.Lines(scales=scales)\n",
    "    if r_leg:\n",
    "        right_leg.x, right_leg.y = [[body.pts[13].x, scat.x[i], scat.x[i+1]],[body.pts[13].y, scat.y[i], scat.y[i+1]]]\n",
    "        i+=2\n",
    "    else:\n",
    "        right_leg.x, right_leg.y = [[body.pts[13].x, body.pts[14].x, body.pts[15].x],[body.pts[13].y, body.pts[14].y, body.pts[15].y]]\n",
    "    marks.append(right_leg)\n",
    "    \n",
    "    \n",
    "    #draw the neck\n",
    "    neck =  bqp.Lines(scales=scales)\n",
    "    if neck_p:\n",
    "        neck.x, neck.y = [[body.pts[1].x, scat.x[i]],[body.pts[1].y, scat.y[i]]]\n",
    "        i+=1\n",
    "    else:\n",
    "        neck.x, neck.y = [[body.pts[1].x, body.pts[0].x],[body.pts[1].y, body.pts[0].y]]\n",
    "    marks.append(neck)\n",
    "    \n",
    "    scat.observe(refresh, names=['x', 'y'])\n",
    "    \n",
    "    return bqp.Figure(marks=marks, padding_y = 0., min_height = 750, min_width = 750)\n",
    "\n",
    "\n",
    "base_body = bd.angles_to_body(bd.angles(), ll, Point(500,300))\n",
    "interactive_body(base_body)"
   ]
  },
  {
   "cell_type": "code",
   "execution_count": null,
   "metadata": {
    "collapsed": false
   },
   "outputs": [],
   "source": [
    "print myPaintings[0]"
   ]
  },
  {
   "cell_type": "code",
   "execution_count": null,
   "metadata": {
    "collapsed": false
   },
   "outputs": [],
   "source": [
    "print myPaintings[234][2]"
   ]
  },
  {
   "cell_type": "code",
   "execution_count": null,
   "metadata": {
    "collapsed": true
   },
   "outputs": [],
   "source": []
  }
 ],
 "metadata": {
  "kernelspec": {
   "display_name": "Python 2",
   "language": "python",
   "name": "python2"
  },
  "language_info": {
   "codemirror_mode": {
    "name": "ipython",
    "version": 2
   },
   "file_extension": ".py",
   "mimetype": "text/x-python",
   "name": "python",
   "nbconvert_exporter": "python",
   "pygments_lexer": "ipython2",
   "version": "2.7.13"
  }
 },
 "nbformat": 4,
 "nbformat_minor": 2
}
